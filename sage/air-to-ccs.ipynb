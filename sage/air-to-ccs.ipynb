{
 "cells": [
  {
   "cell_type": "markdown",
   "id": "2ad8a5fa",
   "metadata": {},
   "source": [
    "This notebook implements the AIR-to-CCS conversion algorithm, found in the canonical [CCS paper](https://eprint.iacr.org/2023/552), $\\text{Lemma 3}$. We apply several modification to this lemma, since we have \n",
    "found *potential* inconsistencies in the paper, all described in [this hackmd document](https://hackmd.io/5f2W4cGsQYy3W_rqVek3yA?view).\n",
    "\n",
    "How to enforce boundary constraints is not specified in the CCS paper. We apply here the algorithm described in the above cited document.\n",
    "\n",
    "We will apply the air-to-ccs transformation to a simple fibonacci air circuit. The trace table for our fibonacci circuit is:\n",
    "\n",
    "| `c_0` | `c_1` |\n",
    "|---|---|\n",
    "| 1  | 1 |\n",
    "| 2 | 3 |\n",
    "| 5 | 8 |\n",
    "| 13 | 21 |\n",
    "\n",
    "This corresponds to outputting the 7th and 8th fibonacci numbers. \n",
    "\n",
    "**Transition constraints**\n",
    "\n",
    "\n",
    "$$ g_0(x_0, x_1, x_2, x_3) = x_2 - x_1 - x_0 $$\n",
    "$$ g_1(x_0, x_1, x_2, x_3) = x_3 - x_2 - x_1 $$\n",
    "\n",
    "**Boundary constraints**\n",
    "\n",
    "\n",
    "$$ T[0][0] - 1 = 0 $$\n",
    "$$ T[0][1] - 1 = 0 $$\n",
    "$$ T[3][0] - 13 = 0 $$\n",
    "$$ T[3][1] - 21 = 0 $$\n",
    "\n",
    "where $T$ is the trace table."
   ]
  },
  {
   "cell_type": "code",
   "execution_count": null,
   "id": "71fac449",
   "metadata": {},
   "outputs": [],
   "source": []
  },
  {
   "cell_type": "code",
   "execution_count": 81,
   "id": "3d8e25a7",
   "metadata": {},
   "outputs": [],
   "source": [
    "p = 21888242871839275222246405745257275088696311157297823662689037894645226208583\n",
    "F = GF(p)\n",
    "P.<x0, x1, x2, x3> = F[]\n",
    "g0 = x2 - x1 - x0\n",
    "g1 = x3 - x2 - x1\n",
    "\n",
    "# get random element and compute single g polynomial\n",
    "r = F.random_element(-10, 10)\n",
    "g = r^0 * g0 + r * g1\n",
    "\n",
    "\n",
    "trace = [[1, 1], [2, 3], [5, 8], [13, 21]]\n",
    "\n",
    "m, t, d, q = len(trace) - 1, len(trace[0]) * 2, g.degree(), len(g.monomials())\n",
    "n = (m+1) * t/2 + 1\n",
    "\n",
    "len_w_air = n - t - 1\n"
   ]
  },
  {
   "cell_type": "code",
   "execution_count": null,
   "id": "bae1fefc",
   "metadata": {},
   "outputs": [],
   "source": []
  },
  {
   "cell_type": "code",
   "execution_count": 93,
   "id": "793ab018",
   "metadata": {},
   "outputs": [],
   "source": [
    "def ccs_is_satisfied(F, z, matrices, multisets, constants):\n",
    "    satisfied_instance_witness = vector(F, [0 for i in range(matrices[0].dimensions()[0])])\n",
    "    z_final = vector(F, [0 for i in range(matrices[0].dimensions()[0])])\n",
    "    for i, c in enumerate(constants):\n",
    "        multiset = multisets[i]\n",
    "        z_i = vector(F, [1 for i in range(matrices[0].dimensions()[0])])\n",
    "        for j in multiset:\n",
    "            z_i = z_i.pairwise_product(matrices[j] * z)\n",
    "        z_final += c * z_i\n",
    "    return z_final == satisfied_instance_witness\n",
    "    "
   ]
  },
  {
   "cell_type": "code",
   "execution_count": null,
   "id": "d010fad2",
   "metadata": {},
   "outputs": [],
   "source": []
  },
  {
   "cell_type": "code",
   "execution_count": 82,
   "id": "a86ca19e",
   "metadata": {},
   "outputs": [],
   "source": [
    "# deriving M_0, ..., M_{t-1} and N\n",
    "N = 0\n",
    "matrices = [matrix(F, m, n) for i in range(t)]\n",
    "for i in range(m):\n",
    "    for j in range(t):\n",
    "        matrix_to_index = matrices[j]\n",
    "        k_j = (t*(i-1)/2) + j \n",
    "        if i == 0 and j < t/2:\n",
    "            matrix_to_index[i, j + len_w_air] = 1\n",
    "            continue\n",
    "        elif i == m - 1 and j >= t/2:\n",
    "            matrix_to_index[i, j + len_w_air] = 1\n",
    "        else:\n",
    "            matrix_to_index[i, k_j] = 1\n",
    "        N += 1"
   ]
  },
  {
   "cell_type": "code",
   "execution_count": null,
   "id": "bcf244e8",
   "metadata": {},
   "outputs": [],
   "source": []
  },
  {
   "cell_type": "code",
   "execution_count": 84,
   "id": "9da87503",
   "metadata": {},
   "outputs": [],
   "source": [
    "# Deriving S_0, ..., S_{q-1} and c_0, ..., c_{q-1}\n",
    "multisets = [[] for i in range(q)]\n",
    "c_coefficients = g.coefficients() # returns in the order of the monomials\n",
    "g_monomials = g.monomials()\n",
    "\n",
    "for i, monomial in enumerate(g.monomials()):\n",
    "    # we extracted the coefficient above\n",
    "    monomial_variables_degrees, monomial_coeff = list(monomial.dict().items())[0] # [(deg x0, deg x1, ...), coeff]\n",
    "    for j, degree in enumerate(monomial_variables_degrees):\n",
    "        if degree != 0:\n",
    "            for _ in range(degree):\n",
    "                # append j with multiplicity equal to the degree of the variable\n",
    "                multisets[i].append(j)"
   ]
  },
  {
   "cell_type": "code",
   "execution_count": null,
   "id": "df5c7601",
   "metadata": {},
   "outputs": [],
   "source": []
  },
  {
   "cell_type": "code",
   "execution_count": 96,
   "id": "69867da7",
   "metadata": {},
   "outputs": [],
   "source": [
    "z = vector(F, trace[1] + trace[2] + trace[0] + trace[3] + [1])\n",
    "assert ccs_is_satisfied(F, z, matrices, multisets, c_coefficients)\n",
    "z[0] = 1\n",
    "assert ccs_is_satisfied(F, z, matrices, multisets, c_coefficients) == False"
   ]
  },
  {
   "cell_type": "code",
   "execution_count": null,
   "id": "74317377",
   "metadata": {},
   "outputs": [],
   "source": []
  },
  {
   "cell_type": "code",
   "execution_count": null,
   "id": "4a05b087",
   "metadata": {},
   "outputs": [],
   "source": []
  },
  {
   "cell_type": "code",
   "execution_count": null,
   "id": "ec9e000b",
   "metadata": {},
   "outputs": [],
   "source": []
  },
  {
   "cell_type": "code",
   "execution_count": null,
   "id": "289cd48c",
   "metadata": {},
   "outputs": [],
   "source": []
  }
 ],
 "metadata": {
  "kernelspec": {
   "display_name": "SageMath 9.8",
   "language": "sage",
   "name": "sagemath-9.8"
  },
  "language_info": {
   "codemirror_mode": {
    "name": "ipython",
    "version": 3
   },
   "file_extension": ".py",
   "mimetype": "text/x-python",
   "name": "python",
   "nbconvert_exporter": "python",
   "pygments_lexer": "ipython3",
   "version": "3.11.1"
  }
 },
 "nbformat": 4,
 "nbformat_minor": 5
}
